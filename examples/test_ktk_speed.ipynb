{
 "cells": [
  {
   "cell_type": "code",
   "execution_count": 1,
   "metadata": {},
   "outputs": [],
   "source": [
    "from lsst_dashboard import Dataset"
   ]
  },
  {
   "cell_type": "code",
   "execution_count": 2,
   "metadata": {},
   "outputs": [
    {
     "name": "stdout",
     "output_type": "stream",
     "text": "-- read metadata file --\n-- connect to butler --\n/project/dharhas/DM-21335-December-KTK is not available in Butler attempting to read parquet files instead\n"
    }
   ],
   "source": [
    "d = Dataset('/project/dharhas/DM-21335-December-KTK')"
   ]
  },
  {
   "cell_type": "code",
   "execution_count": 3,
   "metadata": {},
   "outputs": [
    {
     "name": "stdout",
     "output_type": "stream",
     "text": "CPU times: user 132 ms, sys: 60 ms, total: 192 ms\nWall time: 148 ms\n"
    },
    {
     "data": {
      "text/html": "<div>\n<style scoped>\n    .dataframe tbody tr th:only-of-type {\n        vertical-align: middle;\n    }\n\n    .dataframe tbody tr th {\n        vertical-align: top;\n    }\n\n    .dataframe thead th {\n        text-align: right;\n    }\n</style>\n<table border=\"1\" class=\"dataframe\">\n  <thead>\n    <tr style=\"text-align: right;\">\n      <th></th>\n      <th>dataset</th>\n      <th>filter</th>\n      <th>tract</th>\n      <th>CModel-PSF_magDiff_mmag</th>\n      <th>CircAper12pix-PSF_magDiff_mmag</th>\n      <th>Gaussian-PSF_magDiff_mmag</th>\n      <th>Kron-PSF_magDiff_mmag</th>\n      <th>base_Footprint_nPix</th>\n      <th>base_PsfFlux_instFlux</th>\n      <th>base_PsfFlux_instFluxErr</th>\n      <th>...</th>\n      <th>merge_measurement_r2</th>\n      <th>merge_measurement_y</th>\n      <th>merge_measurement_z</th>\n      <th>patch</th>\n      <th>psfMag</th>\n      <th>psfTraceSdssDiff_percent</th>\n      <th>qaBad_flag</th>\n      <th>ra</th>\n      <th>traceSdss_fwhm_pixel</th>\n      <th>traceSdss_pixel</th>\n    </tr>\n  </thead>\n  <tbody>\n    <tr>\n      <th>0</th>\n      <td>analysisCoaddTable_forced</td>\n      <td>HSC-Z</td>\n      <td>9615</td>\n      <td>25.993949</td>\n      <td>-1014.789129</td>\n      <td>-983.596777</td>\n      <td>NaN</td>\n      <td>1160</td>\n      <td>1.945619e-11</td>\n      <td>1.103540e-11</td>\n      <td>...</td>\n      <td>False</td>\n      <td>False</td>\n      <td>False</td>\n      <td>4,1</td>\n      <td>53.777355</td>\n      <td>19.228338</td>\n      <td>True</td>\n      <td>216.386039</td>\n      <td>4.426720</td>\n      <td>1.879855</td>\n    </tr>\n    <tr>\n      <th>1</th>\n      <td>analysisCoaddTable_forced</td>\n      <td>HSC-Z</td>\n      <td>9615</td>\n      <td>-18.901202</td>\n      <td>-404.462770</td>\n      <td>260.248403</td>\n      <td>-393.738961</td>\n      <td>584</td>\n      <td>6.117239e-11</td>\n      <td>9.725802e-12</td>\n      <td>...</td>\n      <td>False</td>\n      <td>False</td>\n      <td>False</td>\n      <td>8,1</td>\n      <td>52.533611</td>\n      <td>0.188667</td>\n      <td>False</td>\n      <td>215.638082</td>\n      <td>3.700060</td>\n      <td>1.571271</td>\n    </tr>\n    <tr>\n      <th>2</th>\n      <td>analysisCoaddTable_forced</td>\n      <td>HSC-Z</td>\n      <td>9615</td>\n      <td>-114.616315</td>\n      <td>-165.831514</td>\n      <td>-269.064296</td>\n      <td>315.493062</td>\n      <td>171</td>\n      <td>1.305208e-10</td>\n      <td>1.568324e-11</td>\n      <td>...</td>\n      <td>False</td>\n      <td>False</td>\n      <td>False</td>\n      <td>8,1</td>\n      <td>51.710801</td>\n      <td>8.944090</td>\n      <td>True</td>\n      <td>215.505357</td>\n      <td>4.089162</td>\n      <td>1.736507</td>\n    </tr>\n    <tr>\n      <th>3</th>\n      <td>analysisCoaddTable_forced</td>\n      <td>HSC-Z</td>\n      <td>9615</td>\n      <td>-337.336349</td>\n      <td>-160.694873</td>\n      <td>-382.618184</td>\n      <td>-270.883370</td>\n      <td>759</td>\n      <td>1.308343e-10</td>\n      <td>1.350228e-11</td>\n      <td>...</td>\n      <td>False</td>\n      <td>False</td>\n      <td>False</td>\n      <td>4,8</td>\n      <td>51.708196</td>\n      <td>21.944243</td>\n      <td>False</td>\n      <td>216.249991</td>\n      <td>4.683022</td>\n      <td>1.988696</td>\n    </tr>\n    <tr>\n      <th>4</th>\n      <td>analysisCoaddTable_forced</td>\n      <td>HSC-Z</td>\n      <td>9615</td>\n      <td>-504.524646</td>\n      <td>-440.704885</td>\n      <td>-207.165624</td>\n      <td>-418.849904</td>\n      <td>553</td>\n      <td>1.519881e-10</td>\n      <td>1.189656e-11</td>\n      <td>...</td>\n      <td>False</td>\n      <td>False</td>\n      <td>False</td>\n      <td>7,2</td>\n      <td>51.545476</td>\n      <td>36.741415</td>\n      <td>False</td>\n      <td>215.752728</td>\n      <td>5.236356</td>\n      <td>2.223676</td>\n    </tr>\n    <tr>\n      <th>...</th>\n      <td>...</td>\n      <td>...</td>\n      <td>...</td>\n      <td>...</td>\n      <td>...</td>\n      <td>...</td>\n      <td>...</td>\n      <td>...</td>\n      <td>...</td>\n      <td>...</td>\n      <td>...</td>\n      <td>...</td>\n      <td>...</td>\n      <td>...</td>\n      <td>...</td>\n      <td>...</td>\n      <td>...</td>\n      <td>...</td>\n      <td>...</td>\n      <td>...</td>\n      <td>...</td>\n    </tr>\n    <tr>\n      <th>18442</th>\n      <td>analysisCoaddTable_forced</td>\n      <td>HSC-Z</td>\n      <td>9615</td>\n      <td>-537.412285</td>\n      <td>-318.621615</td>\n      <td>-41.972992</td>\n      <td>NaN</td>\n      <td>46</td>\n      <td>1.238308e-11</td>\n      <td>1.151755e-11</td>\n      <td>...</td>\n      <td>False</td>\n      <td>False</td>\n      <td>False</td>\n      <td>7,6</td>\n      <td>54.267928</td>\n      <td>-136.900055</td>\n      <td>True</td>\n      <td>215.829122</td>\n      <td>0.679778</td>\n      <td>0.288675</td>\n    </tr>\n    <tr>\n      <th>18443</th>\n      <td>analysisCoaddTable_forced</td>\n      <td>HSC-Z</td>\n      <td>9615</td>\n      <td>56.402926</td>\n      <td>-832.295374</td>\n      <td>191.280353</td>\n      <td>-2103.679350</td>\n      <td>194</td>\n      <td>1.903179e-11</td>\n      <td>1.159293e-11</td>\n      <td>...</td>\n      <td>False</td>\n      <td>False</td>\n      <td>False</td>\n      <td>5,6</td>\n      <td>53.801301</td>\n      <td>-138.118167</td>\n      <td>True</td>\n      <td>216.085039</td>\n      <td>0.679778</td>\n      <td>0.288675</td>\n    </tr>\n    <tr>\n      <th>18444</th>\n      <td>analysisCoaddTable_forced</td>\n      <td>HSC-Z</td>\n      <td>9615</td>\n      <td>-2344.507296</td>\n      <td>-892.463382</td>\n      <td>-2348.389831</td>\n      <td>-1418.704717</td>\n      <td>1420</td>\n      <td>1.212378e-11</td>\n      <td>1.446470e-11</td>\n      <td>...</td>\n      <td>False</td>\n      <td>False</td>\n      <td>False</td>\n      <td>4,2</td>\n      <td>54.290905</td>\n      <td>67.616154</td>\n      <td>True</td>\n      <td>216.254249</td>\n      <td>6.922828</td>\n      <td>2.939854</td>\n    </tr>\n    <tr>\n      <th>18445</th>\n      <td>analysisCoaddTable_forced</td>\n      <td>HSC-Z</td>\n      <td>9615</td>\n      <td>-526.208217</td>\n      <td>-357.757850</td>\n      <td>-274.144098</td>\n      <td>-778.623953</td>\n      <td>117</td>\n      <td>2.944370e-11</td>\n      <td>1.462075e-11</td>\n      <td>...</td>\n      <td>False</td>\n      <td>False</td>\n      <td>False</td>\n      <td>2,6</td>\n      <td>53.327519</td>\n      <td>-34.176667</td>\n      <td>False</td>\n      <td>216.634641</td>\n      <td>2.585228</td>\n      <td>1.097845</td>\n    </tr>\n    <tr>\n      <th>18446</th>\n      <td>analysisCoaddTable_forced</td>\n      <td>HSC-Z</td>\n      <td>9615</td>\n      <td>-117.726764</td>\n      <td>-1605.560163</td>\n      <td>-2383.317096</td>\n      <td>-4847.980078</td>\n      <td>1178</td>\n      <td>2.151186e-11</td>\n      <td>1.044227e-11</td>\n      <td>...</td>\n      <td>False</td>\n      <td>False</td>\n      <td>False</td>\n      <td>6,2</td>\n      <td>53.668305</td>\n      <td>52.551522</td>\n      <td>True</td>\n      <td>215.903987</td>\n      <td>6.348877</td>\n      <td>2.696120</td>\n    </tr>\n  </tbody>\n</table>\n<p>18447 rows × 40 columns</p>\n</div>",
      "text/plain": "                         dataset filter  tract  CModel-PSF_magDiff_mmag  \\\n0      analysisCoaddTable_forced  HSC-Z   9615                25.993949   \n1      analysisCoaddTable_forced  HSC-Z   9615               -18.901202   \n2      analysisCoaddTable_forced  HSC-Z   9615              -114.616315   \n3      analysisCoaddTable_forced  HSC-Z   9615              -337.336349   \n4      analysisCoaddTable_forced  HSC-Z   9615              -504.524646   \n...                          ...    ...    ...                      ...   \n18442  analysisCoaddTable_forced  HSC-Z   9615              -537.412285   \n18443  analysisCoaddTable_forced  HSC-Z   9615                56.402926   \n18444  analysisCoaddTable_forced  HSC-Z   9615             -2344.507296   \n18445  analysisCoaddTable_forced  HSC-Z   9615              -526.208217   \n18446  analysisCoaddTable_forced  HSC-Z   9615              -117.726764   \n\n       CircAper12pix-PSF_magDiff_mmag  Gaussian-PSF_magDiff_mmag  \\\n0                        -1014.789129                -983.596777   \n1                         -404.462770                 260.248403   \n2                         -165.831514                -269.064296   \n3                         -160.694873                -382.618184   \n4                         -440.704885                -207.165624   \n...                               ...                        ...   \n18442                     -318.621615                 -41.972992   \n18443                     -832.295374                 191.280353   \n18444                     -892.463382               -2348.389831   \n18445                     -357.757850                -274.144098   \n18446                    -1605.560163               -2383.317096   \n\n       Kron-PSF_magDiff_mmag  base_Footprint_nPix  base_PsfFlux_instFlux  \\\n0                        NaN                 1160           1.945619e-11   \n1                -393.738961                  584           6.117239e-11   \n2                 315.493062                  171           1.305208e-10   \n3                -270.883370                  759           1.308343e-10   \n4                -418.849904                  553           1.519881e-10   \n...                      ...                  ...                    ...   \n18442                    NaN                   46           1.238308e-11   \n18443           -2103.679350                  194           1.903179e-11   \n18444           -1418.704717                 1420           1.212378e-11   \n18445            -778.623953                  117           2.944370e-11   \n18446           -4847.980078                 1178           2.151186e-11   \n\n       base_PsfFlux_instFluxErr  ...  merge_measurement_r2  \\\n0                  1.103540e-11  ...                 False   \n1                  9.725802e-12  ...                 False   \n2                  1.568324e-11  ...                 False   \n3                  1.350228e-11  ...                 False   \n4                  1.189656e-11  ...                 False   \n...                         ...  ...                   ...   \n18442              1.151755e-11  ...                 False   \n18443              1.159293e-11  ...                 False   \n18444              1.446470e-11  ...                 False   \n18445              1.462075e-11  ...                 False   \n18446              1.044227e-11  ...                 False   \n\n       merge_measurement_y  merge_measurement_z  patch     psfMag  \\\n0                    False                False    4,1  53.777355   \n1                    False                False    8,1  52.533611   \n2                    False                False    8,1  51.710801   \n3                    False                False    4,8  51.708196   \n4                    False                False    7,2  51.545476   \n...                    ...                  ...    ...        ...   \n18442                False                False    7,6  54.267928   \n18443                False                False    5,6  53.801301   \n18444                False                False    4,2  54.290905   \n18445                False                False    2,6  53.327519   \n18446                False                False    6,2  53.668305   \n\n       psfTraceSdssDiff_percent  qaBad_flag          ra  traceSdss_fwhm_pixel  \\\n0                     19.228338        True  216.386039              4.426720   \n1                      0.188667       False  215.638082              3.700060   \n2                      8.944090        True  215.505357              4.089162   \n3                     21.944243       False  216.249991              4.683022   \n4                     36.741415       False  215.752728              5.236356   \n...                         ...         ...         ...                   ...   \n18442               -136.900055        True  215.829122              0.679778   \n18443               -138.118167        True  216.085039              0.679778   \n18444                 67.616154        True  216.254249              6.922828   \n18445                -34.176667       False  216.634641              2.585228   \n18446                 52.551522        True  215.903987              6.348877   \n\n       traceSdss_pixel  \n0             1.879855  \n1             1.571271  \n2             1.736507  \n3             1.988696  \n4             2.223676  \n...                ...  \n18442         0.288675  \n18443         0.288675  \n18444         2.939854  \n18445         1.097845  \n18446         2.696120  \n\n[18447 rows x 40 columns]"
     },
     "execution_count": 3,
     "metadata": {},
     "output_type": "execute_result"
    }
   ],
   "source": [
    "%%time\n",
    "df = d.fetch_coadds_view(\n",
    "        predicates=[[\n",
    "            (\"tract\", \"==\", 9615), \n",
    "            (\"filter\", \"==\", \"HSC-Z\")\n",
    "        ]]\n",
    ").compute()\n",
    "df"
   ]
  },
  {
   "cell_type": "code",
   "execution_count": 4,
   "metadata": {},
   "outputs": [
    {
     "name": "stdout",
     "output_type": "stream",
     "text": "CPU times: user 131 ms, sys: 24.6 ms, total: 155 ms\nWall time: 135 ms\n"
    },
    {
     "data": {
      "text/html": "<div>\n<style scoped>\n    .dataframe tbody tr th:only-of-type {\n        vertical-align: middle;\n    }\n\n    .dataframe tbody tr th {\n        vertical-align: top;\n    }\n\n    .dataframe thead th {\n        text-align: right;\n    }\n</style>\n<table border=\"1\" class=\"dataframe\">\n  <thead>\n    <tr style=\"text-align: right;\">\n      <th></th>\n      <th>CModel-PSF_magDiff_mmag</th>\n      <th>base_Footprint_nPix</th>\n    </tr>\n  </thead>\n  <tbody>\n    <tr>\n      <th>0</th>\n      <td>-770.607762</td>\n      <td>96</td>\n    </tr>\n    <tr>\n      <th>1</th>\n      <td>-257.662096</td>\n      <td>711</td>\n    </tr>\n    <tr>\n      <th>2</th>\n      <td>-109.360821</td>\n      <td>497</td>\n    </tr>\n    <tr>\n      <th>3</th>\n      <td>-510.431688</td>\n      <td>143</td>\n    </tr>\n    <tr>\n      <th>4</th>\n      <td>-168.654856</td>\n      <td>74</td>\n    </tr>\n    <tr>\n      <th>...</th>\n      <td>...</td>\n      <td>...</td>\n    </tr>\n    <tr>\n      <th>19473</th>\n      <td>inf</td>\n      <td>1468</td>\n    </tr>\n    <tr>\n      <th>19474</th>\n      <td>-96.422931</td>\n      <td>377</td>\n    </tr>\n    <tr>\n      <th>19475</th>\n      <td>-537.614232</td>\n      <td>1362</td>\n    </tr>\n    <tr>\n      <th>19476</th>\n      <td>14.475657</td>\n      <td>343</td>\n    </tr>\n    <tr>\n      <th>19477</th>\n      <td>-115.928341</td>\n      <td>1226</td>\n    </tr>\n  </tbody>\n</table>\n<p>55046 rows × 2 columns</p>\n</div>",
      "text/plain": "       CModel-PSF_magDiff_mmag  base_Footprint_nPix\n0                  -770.607762                   96\n1                  -257.662096                  711\n2                  -109.360821                  497\n3                  -510.431688                  143\n4                  -168.654856                   74\n...                        ...                  ...\n19473                      inf                 1468\n19474               -96.422931                  377\n19475              -537.614232                 1362\n19476                14.475657                  343\n19477              -115.928341                 1226\n\n[55046 rows x 2 columns]"
     },
     "execution_count": 4,
     "metadata": {},
     "output_type": "execute_result"
    }
   ],
   "source": [
    "%%time\n",
    "df = d.fetch_coadds_view(\n",
    "        predicates=[[ \n",
    "            (\"filter\", \"==\", \"HSC-Y\")\n",
    "        ]],\n",
    "        columns = ['CModel-PSF_magDiff_mmag', 'base_Footprint_nPix']\n",
    ").compute()\n",
    "df"
   ]
  },
  {
   "cell_type": "code",
   "execution_count": 5,
   "metadata": {},
   "outputs": [
    {
     "name": "stdout",
     "output_type": "stream",
     "text": "CPU times: user 941 ms, sys: 463 ms, total: 1.4 s\nWall time: 908 ms\n"
    },
    {
     "data": {
      "text/html": "<div>\n<style scoped>\n    .dataframe tbody tr th:only-of-type {\n        vertical-align: middle;\n    }\n\n    .dataframe tbody tr th {\n        vertical-align: top;\n    }\n\n    .dataframe thead th {\n        text-align: right;\n    }\n</style>\n<table border=\"1\" class=\"dataframe\">\n  <thead>\n    <tr style=\"text-align: right;\">\n      <th></th>\n      <th>CModel-PSF_magDiff_mmag</th>\n      <th>base_Footprint_nPix</th>\n    </tr>\n  </thead>\n  <tbody>\n    <tr>\n      <th>0</th>\n      <td>-770.607762</td>\n      <td>96</td>\n    </tr>\n    <tr>\n      <th>1</th>\n      <td>-257.662096</td>\n      <td>711</td>\n    </tr>\n    <tr>\n      <th>2</th>\n      <td>-109.360821</td>\n      <td>497</td>\n    </tr>\n    <tr>\n      <th>3</th>\n      <td>-510.431688</td>\n      <td>143</td>\n    </tr>\n    <tr>\n      <th>4</th>\n      <td>-168.654856</td>\n      <td>74</td>\n    </tr>\n    <tr>\n      <th>...</th>\n      <td>...</td>\n      <td>...</td>\n    </tr>\n    <tr>\n      <th>19473</th>\n      <td>inf</td>\n      <td>1468</td>\n    </tr>\n    <tr>\n      <th>19474</th>\n      <td>-96.422931</td>\n      <td>377</td>\n    </tr>\n    <tr>\n      <th>19475</th>\n      <td>-537.614232</td>\n      <td>1362</td>\n    </tr>\n    <tr>\n      <th>19476</th>\n      <td>14.475657</td>\n      <td>343</td>\n    </tr>\n    <tr>\n      <th>19477</th>\n      <td>-115.928341</td>\n      <td>1226</td>\n    </tr>\n  </tbody>\n</table>\n<p>55046 rows × 2 columns</p>\n</div>",
      "text/plain": "       CModel-PSF_magDiff_mmag  base_Footprint_nPix\n0                  -770.607762                   96\n1                  -257.662096                  711\n2                  -109.360821                  497\n3                  -510.431688                  143\n4                  -168.654856                   74\n...                        ...                  ...\n19473                      inf                 1468\n19474               -96.422931                  377\n19475              -537.614232                 1362\n19476                14.475657                  343\n19477              -115.928341                 1226\n\n[55046 rows x 2 columns]"
     },
     "execution_count": 5,
     "metadata": {},
     "output_type": "execute_result"
    }
   ],
   "source": [
    "%%time\n",
    "d.fetch_visits_view(\n",
    "        predicates=[[ \n",
    "            (\"filter\", \"==\", \"HSC-Y\")\n",
    "        ]],\n",
    ").compute()\n",
    "df"
   ]
  },
  {
   "cell_type": "code",
   "execution_count": null,
   "metadata": {},
   "outputs": [],
   "source": []
  }
 ],
 "metadata": {
  "kernelspec": {
   "display_name": "Python 3",
   "language": "python",
   "name": "python3"
  },
  "language_info": {
   "codemirror_mode": {
    "name": "ipython",
    "version": 3
   },
   "file_extension": ".py",
   "mimetype": "text/x-python",
   "name": "python",
   "nbconvert_exporter": "python",
   "pygments_lexer": "ipython3",
   "version": "3.7.6"
  }
 },
 "nbformat": 4,
 "nbformat_minor": 4
}