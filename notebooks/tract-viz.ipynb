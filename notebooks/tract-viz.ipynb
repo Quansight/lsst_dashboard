{
 "cells": [
  {
   "cell_type": "markdown",
   "metadata": {},
   "source": [
    "# Visualizing arbitrary tract-level data\n",
    "\n",
    "The following demonstrates how to visualize data that can be expressed as one number per tract, using the geoviews/holoviews stack.\n",
    "\n",
    "At present, geoviews/geopandas are not available on the LSP, so running this there (even after pip installing geopandas and geoviews) crashes the notebook kernel.  But the following works on my laptop where the geoviews/holoviews stack is installed."
   ]
  },
  {
   "cell_type": "code",
   "execution_count": null,
   "metadata": {},
   "outputs": [],
   "source": [
    "import holoviews as hv\n",
    "from cartopy import crs\n",
    "import geopandas as gpd\n",
    "hv.extension('bokeh')"
   ]
  },
  {
   "cell_type": "code",
   "execution_count": null,
   "metadata": {},
   "outputs": [],
   "source": [
    "import numpy as np\n",
    "import pandas as pd\n",
    "\n",
    "# Random arbitrary data, indexed by tract\n",
    "tracts = list(range(8000, 10000))\n",
    "data = {'metric_1': np.random.random(len(tracts)),\n",
    "        'metric_2': np.random.random(len(tracts))}\n",
    "df = pd.DataFrame(index=tracts, data=data)\n",
    "\n",
    "df.head()"
   ]
  },
  {
   "cell_type": "code",
   "execution_count": null,
   "metadata": {},
   "outputs": [],
   "source": [
    "skymap = gpd.read_file('https://github.com/Quansight/lsst_dashboard/raw/master/deepCoadd_skyMap.geojson')\n",
    "skymap.head()"
   ]
  },
  {
   "cell_type": "code",
   "execution_count": null,
   "metadata": {},
   "outputs": [],
   "source": [
    "gdf = skymap.join(df, how='right')\n",
    "gdf['tract'] = gdf.index\n",
    "gdf.head()"
   ]
  },
  {
   "cell_type": "code",
   "execution_count": null,
   "metadata": {},
   "outputs": [],
   "source": [
    "def create_dict(row):\n",
    "    \"\"\"create a dictionary representation of a df row\"\"\"\n",
    "    d = {('x','y'): np.array(row.geometry.exterior.coords),\n",
    "         'metric_1': row['metric_1'],\n",
    "         'metric_2': row['metric_2'],\n",
    "         'tract': row['tract'],\n",
    "        }\n",
    "    return d\n",
    "\n",
    "# create a dictionary reprresentation of the dataframe\n",
    "data = list(gdf.apply(create_dict, axis=1))"
   ]
  },
  {
   "cell_type": "code",
   "execution_count": null,
   "metadata": {},
   "outputs": [],
   "source": [
    "hv.Polygons(data, vdims=['metric_1', 'metric_2','tract']).opts(tools=['hover'], width=1200, line_width=0, colorbar=True)"
   ]
  }
 ],
 "metadata": {
  "kernelspec": {
   "display_name": "Python 3",
   "language": "python",
   "name": "python3"
  },
  "language_info": {
   "codemirror_mode": {
    "name": "ipython",
    "version": 3
   },
   "file_extension": ".py",
   "mimetype": "text/x-python",
   "name": "python",
   "nbconvert_exporter": "python",
   "pygments_lexer": "ipython3",
   "version": "3.8.1"
  }
 },
 "nbformat": 4,
 "nbformat_minor": 4
}
