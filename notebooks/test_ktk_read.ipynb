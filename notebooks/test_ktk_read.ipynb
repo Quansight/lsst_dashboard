{
 "nbformat": 4,
 "nbformat_minor": 2,
 "metadata": {
  "language_info": {
   "name": "python",
   "codemirror_mode": {
    "name": "ipython",
    "version": 3
   },
   "version": "3.7.6-final"
  },
  "orig_nbformat": 2,
  "file_extension": ".py",
  "mimetype": "text/x-python",
  "name": "python",
  "npconvert_exporter": "python",
  "pygments_lexer": "ipython3",
  "version": 3,
  "kernelspec": {
   "name": "python3",
   "display_name": "Python 3"
  }
 },
 "cells": [
  {
   "cell_type": "code",
   "execution_count": 1,
   "metadata": {},
   "outputs": [],
   "source": [
    "from dask_jobqueue import SLURMCluster\n",
    "from dask.distributed import Client"
   ]
  },
  {
   "cell_type": "code",
   "execution_count": 6,
   "metadata": {},
   "outputs": [],
   "source": [
    "from kartothek.io.dask.dataframe import update_dataset_from_ddf, read_dataset_as_ddf\n",
    "from storefact import get_store_from_url\n",
    "from functools import partial"
   ]
  },
  {
   "cell_type": "code",
   "execution_count": 2,
   "metadata": {},
   "outputs": [],
   "source": [
    "cluster = SLURMCluster(queue='normal', cores=24, memory='128GB', scheduler_port=29200, extra=['--worker-port 29201'], dashboard_address=':20001')"
   ]
  },
  {
   "cell_type": "code",
   "execution_count": 3,
   "metadata": {},
   "outputs": [],
   "source": [
    "cluster.scale(10)"
   ]
  },
  {
   "cell_type": "code",
   "execution_count": 4,
   "metadata": {},
   "outputs": [
    {
     "data": {
      "text/html": "<table style=\"border: 2px solid white;\">\n<tr>\n<td style=\"vertical-align: top; border: 0px solid white\">\n<h3 style=\"text-align: left;\">Client</h3>\n<ul style=\"text-align: left; list-style: none; margin: 0; padding: 0;\">\n  <li><b>Scheduler: </b>tcp://141.142.237.49:29200</li>\n  <li><b>Dashboard: </b><a href='http://141.142.237.49:20001/status' target='_blank'>http://141.142.237.49:20001/status</a>\n</ul>\n</td>\n<td style=\"vertical-align: top; border: 0px solid white\">\n<h3 style=\"text-align: left;\">Cluster</h3>\n<ul style=\"text-align: left; list-style:none; margin: 0; padding: 0;\">\n  <li><b>Workers: </b>5</li>\n  <li><b>Cores: </b>120</li>\n  <li><b>Memory: </b>640.00 GB</li>\n</ul>\n</td>\n</tr>\n</table>",
      "text/plain": "<Client: 'tcp://141.142.237.49:29200' processes=5 threads=120, memory=640.00 GB>"
     },
     "execution_count": 4,
     "metadata": {},
     "output_type": "execute_result"
    }
   ],
   "source": [
    "client = Client(cluster)\n",
    "client"
   ]
  },
  {
   "cell_type": "code",
   "execution_count": 5,
   "metadata": {},
   "outputs": [],
   "source": [
    "src = '/project/dharhas/DM-23243-KTK-Full'"
   ]
  },
  {
   "cell_type": "code",
   "execution_count": 8,
   "metadata": {},
   "outputs": [],
   "source": [
    "store = partial(get_store_from_url, 'hfs://' + src)"
   ]
  },
  {
   "cell_type": "code",
   "execution_count": 9,
   "metadata": {},
   "outputs": [],
   "source": [
    "fetch_coadd_forced_view = partial(\n",
    "            read_dataset_as_ddf,\n",
    "            dataset_uuid=\"coadd_forced\",\n",
    "            store=store,\n",
    "            table='table'\n",
    "        )"
   ]
  },
  {
   "cell_type": "code",
   "execution_count": 10,
   "metadata": {},
   "outputs": [],
   "source": [
    "df = fetch_coadd_forced_view()"
   ]
  },
  {
   "cell_type": "code",
   "execution_count": 16,
   "metadata": {},
   "outputs": [
    {
     "data": {
      "text/html": "<div>\n<style scoped>\n    .dataframe tbody tr th:only-of-type {\n        vertical-align: middle;\n    }\n\n    .dataframe tbody tr th {\n        vertical-align: top;\n    }\n\n    .dataframe thead th {\n        text-align: right;\n    }\n</style>\n<table border=\"1\" class=\"dataframe\">\n  <thead>\n    <tr style=\"text-align: right;\">\n      <th></th>\n      <th>0</th>\n      <th>1</th>\n      <th>2</th>\n      <th>3</th>\n      <th>4</th>\n    </tr>\n  </thead>\n  <tbody>\n    <tr>\n      <th>filter</th>\n      <td>HSC-R</td>\n      <td>HSC-R</td>\n      <td>HSC-R</td>\n      <td>HSC-R</td>\n      <td>HSC-R</td>\n    </tr>\n    <tr>\n      <th>tract</th>\n      <td>8283</td>\n      <td>8283</td>\n      <td>8283</td>\n      <td>8283</td>\n      <td>8283</td>\n    </tr>\n    <tr>\n      <th>CModel-PSF_magDiff_mmag</th>\n      <td>1.56776</td>\n      <td>NaN</td>\n      <td>-294.724</td>\n      <td>NaN</td>\n      <td>NaN</td>\n    </tr>\n    <tr>\n      <th>CircAper12pix-PSF_magDiff_mmag</th>\n      <td>12.7144</td>\n      <td>NaN</td>\n      <td>321.543</td>\n      <td>-336.412</td>\n      <td>-1277.75</td>\n    </tr>\n    <tr>\n      <th>Gaussian-PSF_magDiff_mmag</th>\n      <td>2.47752</td>\n      <td>NaN</td>\n      <td>-478.961</td>\n      <td>-469.825</td>\n      <td>NaN</td>\n    </tr>\n    <tr>\n      <th>Kron-PSF_magDiff_mmag</th>\n      <td>6.98334</td>\n      <td>NaN</td>\n      <td>390.195</td>\n      <td>-367.268</td>\n      <td>-2925.64</td>\n    </tr>\n    <tr>\n      <th>base_Footprint_nPix</th>\n      <td>1041</td>\n      <td>305</td>\n      <td>435</td>\n      <td>5825</td>\n      <td>140</td>\n    </tr>\n    <tr>\n      <th>base_PsfFlux_instFlux</th>\n      <td>5.33219e-09</td>\n      <td>4.41429e-12</td>\n      <td>7.84472e-11</td>\n      <td>7.15106e-08</td>\n      <td>2.40526e-12</td>\n    </tr>\n    <tr>\n      <th>base_PsfFlux_instFluxErr</th>\n      <td>1.54916e-11</td>\n      <td>7.91341e-12</td>\n      <td>8.23886e-12</td>\n      <td>5.04212e-11</td>\n      <td>7.37052e-12</td>\n    </tr>\n    <tr>\n      <th>calib_photometry_reserved</th>\n      <td>False</td>\n      <td>False</td>\n      <td>False</td>\n      <td>False</td>\n      <td>False</td>\n    </tr>\n    <tr>\n      <th>calib_psf_candidate</th>\n      <td>True</td>\n      <td>False</td>\n      <td>False</td>\n      <td>False</td>\n      <td>False</td>\n    </tr>\n    <tr>\n      <th>calib_psf_used</th>\n      <td>True</td>\n      <td>False</td>\n      <td>False</td>\n      <td>False</td>\n      <td>False</td>\n    </tr>\n    <tr>\n      <th>compareUnforced_CModel_magDiff_mmag</th>\n      <td>-0</td>\n      <td>NaN</td>\n      <td>-69.7548</td>\n      <td>NaN</td>\n      <td>NaN</td>\n    </tr>\n    <tr>\n      <th>compareUnforced_CircAper12pix_magDiff_mmag</th>\n      <td>-0</td>\n      <td>244.629</td>\n      <td>-23.2692</td>\n      <td>0.354013</td>\n      <td>515.051</td>\n    </tr>\n    <tr>\n      <th>compareUnforced_Gaussian_magDiff_mmag</th>\n      <td>-0</td>\n      <td>NaN</td>\n      <td>-326.46</td>\n      <td>659.11</td>\n      <td>NaN</td>\n    </tr>\n    <tr>\n      <th>compareUnforced_Kron_magDiff_mmag</th>\n      <td>-0</td>\n      <td>NaN</td>\n      <td>417.538</td>\n      <td>165.206</td>\n      <td>NaN</td>\n    </tr>\n    <tr>\n      <th>dec</th>\n      <td>-6.07417</td>\n      <td>-6.07367</td>\n      <td>-6.07402</td>\n      <td>-6.07313</td>\n      <td>-6.07364</td>\n    </tr>\n    <tr>\n      <th>deconvMoments</th>\n      <td>-0.00480981</td>\n      <td>NaN</td>\n      <td>0.986757</td>\n      <td>3.6649</td>\n      <td>102.35</td>\n    </tr>\n    <tr>\n      <th>e1ResidsSdss_milli</th>\n      <td>7.25552</td>\n      <td>NaN</td>\n      <td>37.4779</td>\n      <td>-143.029</td>\n      <td>86.5602</td>\n    </tr>\n    <tr>\n      <th>e2ResidsSdss_milli</th>\n      <td>-4.56144</td>\n      <td>NaN</td>\n      <td>-209.886</td>\n      <td>-57.0688</td>\n      <td>-23.0783</td>\n    </tr>\n    <tr>\n      <th>merge_measurement_N1010</th>\n      <td>False</td>\n      <td>False</td>\n      <td>False</td>\n      <td>False</td>\n      <td>False</td>\n    </tr>\n    <tr>\n      <th>merge_measurement_N387</th>\n      <td>False</td>\n      <td>False</td>\n      <td>False</td>\n      <td>False</td>\n      <td>False</td>\n    </tr>\n    <tr>\n      <th>merge_measurement_N515</th>\n      <td>False</td>\n      <td>False</td>\n      <td>False</td>\n      <td>False</td>\n      <td>False</td>\n    </tr>\n    <tr>\n      <th>merge_measurement_N816</th>\n      <td>False</td>\n      <td>False</td>\n      <td>False</td>\n      <td>False</td>\n      <td>False</td>\n    </tr>\n    <tr>\n      <th>merge_measurement_N921</th>\n      <td>False</td>\n      <td>False</td>\n      <td>False</td>\n      <td>False</td>\n      <td>False</td>\n    </tr>\n    <tr>\n      <th>merge_measurement_g</th>\n      <td>False</td>\n      <td>False</td>\n      <td>True</td>\n      <td>True</td>\n      <td>False</td>\n    </tr>\n    <tr>\n      <th>merge_measurement_i</th>\n      <td>False</td>\n      <td>True</td>\n      <td>False</td>\n      <td>False</td>\n      <td>True</td>\n    </tr>\n    <tr>\n      <th>merge_measurement_i2</th>\n      <td>False</td>\n      <td>False</td>\n      <td>False</td>\n      <td>False</td>\n      <td>False</td>\n    </tr>\n    <tr>\n      <th>merge_measurement_r</th>\n      <td>True</td>\n      <td>False</td>\n      <td>False</td>\n      <td>False</td>\n      <td>False</td>\n    </tr>\n    <tr>\n      <th>merge_measurement_r2</th>\n      <td>False</td>\n      <td>False</td>\n      <td>False</td>\n      <td>False</td>\n      <td>False</td>\n    </tr>\n    <tr>\n      <th>merge_measurement_y</th>\n      <td>False</td>\n      <td>False</td>\n      <td>False</td>\n      <td>False</td>\n      <td>False</td>\n    </tr>\n    <tr>\n      <th>merge_measurement_z</th>\n      <td>False</td>\n      <td>False</td>\n      <td>False</td>\n      <td>False</td>\n      <td>False</td>\n    </tr>\n    <tr>\n      <th>patch</th>\n      <td>4,7</td>\n      <td>4,7</td>\n      <td>4,7</td>\n      <td>4,7</td>\n      <td>4,7</td>\n    </tr>\n    <tr>\n      <th>psfMag</th>\n      <td>20.6827</td>\n      <td>28.3878</td>\n      <td>25.2636</td>\n      <td>17.8641</td>\n      <td>29.0471</td>\n    </tr>\n    <tr>\n      <th>psfTraceSdssDiff_percent</th>\n      <td>-0.073599</td>\n      <td>NaN</td>\n      <td>13.1579</td>\n      <td>32.5384</td>\n      <td>140.767</td>\n    </tr>\n    <tr>\n      <th>qaBad_flag</th>\n      <td>True</td>\n      <td>True</td>\n      <td>True</td>\n      <td>True</td>\n      <td>True</td>\n    </tr>\n    <tr>\n      <th>ra</th>\n      <td>35.8017</td>\n      <td>35.8096</td>\n      <td>35.8062</td>\n      <td>35.7989</td>\n      <td>35.8138</td>\n    </tr>\n    <tr>\n      <th>traceSdss_fwhm_pixel</th>\n      <td>3.00882</td>\n      <td>NaN</td>\n      <td>3.43646</td>\n      <td>4.59436</td>\n      <td>17.106</td>\n    </tr>\n    <tr>\n      <th>traceSdss_pixel</th>\n      <td>1.27773</td>\n      <td>NaN</td>\n      <td>1.45933</td>\n      <td>1.95105</td>\n      <td>7.26424</td>\n    </tr>\n  </tbody>\n</table>\n</div>",
      "text/plain": "                                                      0            1  \\\nfilter                                            HSC-R        HSC-R   \ntract                                              8283         8283   \nCModel-PSF_magDiff_mmag                         1.56776          NaN   \nCircAper12pix-PSF_magDiff_mmag                  12.7144          NaN   \nGaussian-PSF_magDiff_mmag                       2.47752          NaN   \nKron-PSF_magDiff_mmag                           6.98334          NaN   \nbase_Footprint_nPix                                1041          305   \nbase_PsfFlux_instFlux                       5.33219e-09  4.41429e-12   \nbase_PsfFlux_instFluxErr                    1.54916e-11  7.91341e-12   \ncalib_photometry_reserved                         False        False   \ncalib_psf_candidate                                True        False   \ncalib_psf_used                                     True        False   \ncompareUnforced_CModel_magDiff_mmag                  -0          NaN   \ncompareUnforced_CircAper12pix_magDiff_mmag           -0      244.629   \ncompareUnforced_Gaussian_magDiff_mmag                -0          NaN   \ncompareUnforced_Kron_magDiff_mmag                    -0          NaN   \ndec                                            -6.07417     -6.07367   \ndeconvMoments                               -0.00480981          NaN   \ne1ResidsSdss_milli                              7.25552          NaN   \ne2ResidsSdss_milli                             -4.56144          NaN   \nmerge_measurement_N1010                           False        False   \nmerge_measurement_N387                            False        False   \nmerge_measurement_N515                            False        False   \nmerge_measurement_N816                            False        False   \nmerge_measurement_N921                            False        False   \nmerge_measurement_g                               False        False   \nmerge_measurement_i                               False         True   \nmerge_measurement_i2                              False        False   \nmerge_measurement_r                                True        False   \nmerge_measurement_r2                              False        False   \nmerge_measurement_y                               False        False   \nmerge_measurement_z                               False        False   \npatch                                               4,7          4,7   \npsfMag                                          20.6827      28.3878   \npsfTraceSdssDiff_percent                      -0.073599          NaN   \nqaBad_flag                                         True         True   \nra                                              35.8017      35.8096   \ntraceSdss_fwhm_pixel                            3.00882          NaN   \ntraceSdss_pixel                                 1.27773          NaN   \n\n                                                      2            3  \\\nfilter                                            HSC-R        HSC-R   \ntract                                              8283         8283   \nCModel-PSF_magDiff_mmag                        -294.724          NaN   \nCircAper12pix-PSF_magDiff_mmag                  321.543     -336.412   \nGaussian-PSF_magDiff_mmag                      -478.961     -469.825   \nKron-PSF_magDiff_mmag                           390.195     -367.268   \nbase_Footprint_nPix                                 435         5825   \nbase_PsfFlux_instFlux                       7.84472e-11  7.15106e-08   \nbase_PsfFlux_instFluxErr                    8.23886e-12  5.04212e-11   \ncalib_photometry_reserved                         False        False   \ncalib_psf_candidate                               False        False   \ncalib_psf_used                                    False        False   \ncompareUnforced_CModel_magDiff_mmag            -69.7548          NaN   \ncompareUnforced_CircAper12pix_magDiff_mmag     -23.2692     0.354013   \ncompareUnforced_Gaussian_magDiff_mmag           -326.46       659.11   \ncompareUnforced_Kron_magDiff_mmag               417.538      165.206   \ndec                                            -6.07402     -6.07313   \ndeconvMoments                                  0.986757       3.6649   \ne1ResidsSdss_milli                              37.4779     -143.029   \ne2ResidsSdss_milli                             -209.886     -57.0688   \nmerge_measurement_N1010                           False        False   \nmerge_measurement_N387                            False        False   \nmerge_measurement_N515                            False        False   \nmerge_measurement_N816                            False        False   \nmerge_measurement_N921                            False        False   \nmerge_measurement_g                                True         True   \nmerge_measurement_i                               False        False   \nmerge_measurement_i2                              False        False   \nmerge_measurement_r                               False        False   \nmerge_measurement_r2                              False        False   \nmerge_measurement_y                               False        False   \nmerge_measurement_z                               False        False   \npatch                                               4,7          4,7   \npsfMag                                          25.2636      17.8641   \npsfTraceSdssDiff_percent                        13.1579      32.5384   \nqaBad_flag                                         True         True   \nra                                              35.8062      35.7989   \ntraceSdss_fwhm_pixel                            3.43646      4.59436   \ntraceSdss_pixel                                 1.45933      1.95105   \n\n                                                      4  \nfilter                                            HSC-R  \ntract                                              8283  \nCModel-PSF_magDiff_mmag                             NaN  \nCircAper12pix-PSF_magDiff_mmag                 -1277.75  \nGaussian-PSF_magDiff_mmag                           NaN  \nKron-PSF_magDiff_mmag                          -2925.64  \nbase_Footprint_nPix                                 140  \nbase_PsfFlux_instFlux                       2.40526e-12  \nbase_PsfFlux_instFluxErr                    7.37052e-12  \ncalib_photometry_reserved                         False  \ncalib_psf_candidate                               False  \ncalib_psf_used                                    False  \ncompareUnforced_CModel_magDiff_mmag                 NaN  \ncompareUnforced_CircAper12pix_magDiff_mmag      515.051  \ncompareUnforced_Gaussian_magDiff_mmag               NaN  \ncompareUnforced_Kron_magDiff_mmag                   NaN  \ndec                                            -6.07364  \ndeconvMoments                                    102.35  \ne1ResidsSdss_milli                              86.5602  \ne2ResidsSdss_milli                             -23.0783  \nmerge_measurement_N1010                           False  \nmerge_measurement_N387                            False  \nmerge_measurement_N515                            False  \nmerge_measurement_N816                            False  \nmerge_measurement_N921                            False  \nmerge_measurement_g                               False  \nmerge_measurement_i                                True  \nmerge_measurement_i2                              False  \nmerge_measurement_r                               False  \nmerge_measurement_r2                              False  \nmerge_measurement_y                               False  \nmerge_measurement_z                               False  \npatch                                               4,7  \npsfMag                                          29.0471  \npsfTraceSdssDiff_percent                        140.767  \nqaBad_flag                                         True  \nra                                              35.8138  \ntraceSdss_fwhm_pixel                             17.106  \ntraceSdss_pixel                                 7.26424  "
     },
     "execution_count": 16,
     "metadata": {},
     "output_type": "execute_result"
    }
   ],
   "source": [
    "df.head().T"
   ]
  },
  {
   "cell_type": "code",
   "execution_count": 14,
   "metadata": {},
   "outputs": [],
   "source": [
    "fetch_visits_view = partial(\n",
    "            read_dataset_as_ddf,\n",
    "            dataset_uuid=\"visits\",\n",
    "            store=store,\n",
    "            table='table'\n",
    "        )"
   ]
  },
  {
   "cell_type": "code",
   "execution_count": 15,
   "metadata": {},
   "outputs": [
    {
     "data": {
      "text/html": "<div>\n<style scoped>\n    .dataframe tbody tr th:only-of-type {\n        vertical-align: middle;\n    }\n\n    .dataframe tbody tr th {\n        vertical-align: top;\n    }\n\n    .dataframe thead th {\n        text-align: right;\n    }\n</style>\n<table border=\"1\" class=\"dataframe\">\n  <thead>\n    <tr style=\"text-align: right;\">\n      <th></th>\n      <th>0</th>\n      <th>1</th>\n      <th>2</th>\n      <th>3</th>\n      <th>4</th>\n    </tr>\n  </thead>\n  <tbody>\n    <tr>\n      <th>filter</th>\n      <td>HSC-G</td>\n      <td>HSC-G</td>\n      <td>HSC-G</td>\n      <td>HSC-G</td>\n      <td>HSC-G</td>\n    </tr>\n    <tr>\n      <th>tract</th>\n      <td>8283</td>\n      <td>8283</td>\n      <td>8283</td>\n      <td>8283</td>\n      <td>8283</td>\n    </tr>\n    <tr>\n      <th>CircAper12pix-PSF_magDiff_mmag</th>\n      <td>NaN</td>\n      <td>-281.087</td>\n      <td>-527.453</td>\n      <td>-846.828</td>\n      <td>-758.118</td>\n    </tr>\n    <tr>\n      <th>Gaussian-PSF_magDiff_mmag</th>\n      <td>-600.347</td>\n      <td>-391.742</td>\n      <td>-392.376</td>\n      <td>-910.855</td>\n      <td>-743.049</td>\n    </tr>\n    <tr>\n      <th>Kron-PSF_magDiff_mmag</th>\n      <td>NaN</td>\n      <td>-336.925</td>\n      <td>-788.055</td>\n      <td>-943.082</td>\n      <td>-827.511</td>\n    </tr>\n    <tr>\n      <th>base_Footprint_nPix</th>\n      <td>749</td>\n      <td>397</td>\n      <td>707</td>\n      <td>250</td>\n      <td>379</td>\n    </tr>\n    <tr>\n      <th>base_PsfFlux_instFlux</th>\n      <td>7.0114e-10</td>\n      <td>1.62891e-10</td>\n      <td>2.04854e-10</td>\n      <td>7.7599e-11</td>\n      <td>1.17048e-10</td>\n    </tr>\n    <tr>\n      <th>base_PsfFlux_instFluxErr</th>\n      <td>1.03216e-11</td>\n      <td>9.39507e-12</td>\n      <td>9.72448e-12</td>\n      <td>9.60769e-12</td>\n      <td>9.67286e-12</td>\n    </tr>\n    <tr>\n      <th>calib_photometry_reserved</th>\n      <td>False</td>\n      <td>False</td>\n      <td>False</td>\n      <td>False</td>\n      <td>False</td>\n    </tr>\n    <tr>\n      <th>calib_psf_candidate</th>\n      <td>False</td>\n      <td>False</td>\n      <td>False</td>\n      <td>False</td>\n      <td>False</td>\n    </tr>\n    <tr>\n      <th>calib_psf_used</th>\n      <td>False</td>\n      <td>False</td>\n      <td>False</td>\n      <td>False</td>\n      <td>False</td>\n    </tr>\n    <tr>\n      <th>ccd</th>\n      <td>1</td>\n      <td>1</td>\n      <td>1</td>\n      <td>1</td>\n      <td>1</td>\n    </tr>\n    <tr>\n      <th>dec</th>\n      <td>-6.00497</td>\n      <td>-5.99081</td>\n      <td>-6.01792</td>\n      <td>-6.03554</td>\n      <td>-6.0692</td>\n    </tr>\n    <tr>\n      <th>deconvMoments</th>\n      <td>16.0875</td>\n      <td>9.40997</td>\n      <td>10.1519</td>\n      <td>33.6016</td>\n      <td>23.1409</td>\n    </tr>\n    <tr>\n      <th>e1ResidsSdss_milli</th>\n      <td>-184.55</td>\n      <td>-236.122</td>\n      <td>-118.006</td>\n      <td>-160.94</td>\n      <td>-225.866</td>\n    </tr>\n    <tr>\n      <th>e2ResidsSdss_milli</th>\n      <td>-5.93041</td>\n      <td>19.2282</td>\n      <td>-350.863</td>\n      <td>140.58</td>\n      <td>124.242</td>\n    </tr>\n    <tr>\n      <th>psfMag</th>\n      <td>22.8855</td>\n      <td>24.4703</td>\n      <td>24.2214</td>\n      <td>25.2754</td>\n      <td>24.8291</td>\n    </tr>\n    <tr>\n      <th>psfTraceSdssDiff_percent</th>\n      <td>45.733</td>\n      <td>30.602</td>\n      <td>33.593</td>\n      <td>24.7209</td>\n      <td>20.6866</td>\n    </tr>\n    <tr>\n      <th>qaBad_flag</th>\n      <td>True</td>\n      <td>True</td>\n      <td>True</td>\n      <td>True</td>\n      <td>True</td>\n    </tr>\n    <tr>\n      <th>ra</th>\n      <td>35.8618</td>\n      <td>35.8619</td>\n      <td>35.8624</td>\n      <td>35.8621</td>\n      <td>35.8623</td>\n    </tr>\n    <tr>\n      <th>traceSdss_fwhm_pixel</th>\n      <td>8.63175</td>\n      <td>7.34888</td>\n      <td>7.63049</td>\n      <td>6.9941</td>\n      <td>6.7462</td>\n    </tr>\n    <tr>\n      <th>traceSdss_pixel</th>\n      <td>3.66556</td>\n      <td>3.12078</td>\n      <td>3.24037</td>\n      <td>2.97012</td>\n      <td>2.86485</td>\n    </tr>\n    <tr>\n      <th>visit</th>\n      <td>15216</td>\n      <td>15216</td>\n      <td>15216</td>\n      <td>15216</td>\n      <td>15216</td>\n    </tr>\n  </tbody>\n</table>\n</div>",
      "text/plain": "                                          0            1            2  \\\nfilter                                HSC-G        HSC-G        HSC-G   \ntract                                  8283         8283         8283   \nCircAper12pix-PSF_magDiff_mmag          NaN     -281.087     -527.453   \nGaussian-PSF_magDiff_mmag          -600.347     -391.742     -392.376   \nKron-PSF_magDiff_mmag                   NaN     -336.925     -788.055   \nbase_Footprint_nPix                     749          397          707   \nbase_PsfFlux_instFlux            7.0114e-10  1.62891e-10  2.04854e-10   \nbase_PsfFlux_instFluxErr        1.03216e-11  9.39507e-12  9.72448e-12   \ncalib_photometry_reserved             False        False        False   \ncalib_psf_candidate                   False        False        False   \ncalib_psf_used                        False        False        False   \nccd                                       1            1            1   \ndec                                -6.00497     -5.99081     -6.01792   \ndeconvMoments                       16.0875      9.40997      10.1519   \ne1ResidsSdss_milli                  -184.55     -236.122     -118.006   \ne2ResidsSdss_milli                 -5.93041      19.2282     -350.863   \npsfMag                              22.8855      24.4703      24.2214   \npsfTraceSdssDiff_percent             45.733       30.602       33.593   \nqaBad_flag                             True         True         True   \nra                                  35.8618      35.8619      35.8624   \ntraceSdss_fwhm_pixel                8.63175      7.34888      7.63049   \ntraceSdss_pixel                     3.66556      3.12078      3.24037   \nvisit                                 15216        15216        15216   \n\n                                          3            4  \nfilter                                HSC-G        HSC-G  \ntract                                  8283         8283  \nCircAper12pix-PSF_magDiff_mmag     -846.828     -758.118  \nGaussian-PSF_magDiff_mmag          -910.855     -743.049  \nKron-PSF_magDiff_mmag              -943.082     -827.511  \nbase_Footprint_nPix                     250          379  \nbase_PsfFlux_instFlux            7.7599e-11  1.17048e-10  \nbase_PsfFlux_instFluxErr        9.60769e-12  9.67286e-12  \ncalib_photometry_reserved             False        False  \ncalib_psf_candidate                   False        False  \ncalib_psf_used                        False        False  \nccd                                       1            1  \ndec                                -6.03554      -6.0692  \ndeconvMoments                       33.6016      23.1409  \ne1ResidsSdss_milli                  -160.94     -225.866  \ne2ResidsSdss_milli                   140.58      124.242  \npsfMag                              25.2754      24.8291  \npsfTraceSdssDiff_percent            24.7209      20.6866  \nqaBad_flag                             True         True  \nra                                  35.8621      35.8623  \ntraceSdss_fwhm_pixel                 6.9941       6.7462  \ntraceSdss_pixel                     2.97012      2.86485  \nvisit                                 15216        15216  "
     },
     "execution_count": 15,
     "metadata": {},
     "output_type": "execute_result"
    }
   ],
   "source": [
    "fetch_visits_view().head().T"
   ]
  },
  {
   "cell_type": "code",
   "execution_count": 19,
   "metadata": {},
   "outputs": [
    {
     "data": {
      "text/plain": "dtype('int64')"
     },
     "execution_count": 19,
     "metadata": {},
     "output_type": "execute_result"
    }
   ],
   "source": [
    "df.tract.dtype"
   ]
  },
  {
   "cell_type": "code",
   "execution_count": null,
   "metadata": {},
   "outputs": [],
   "source": []
  }
 ]
}